{
 "cells": [
  {
   "cell_type": "code",
   "execution_count": 1,
   "id": "35da815d-001d-4584-b9d7-39c12911cceb",
   "metadata": {},
   "outputs": [
    {
     "name": "stdin",
     "output_type": "stream",
     "text": [
      "Enter number of vertices:  6\n",
      "Enter vertex:  a\n",
      "Enter neighbors of a (space-separated):  b c\n",
      "Enter vertex:  b\n",
      "Enter neighbors of b (space-separated):  a d\n",
      "Enter vertex:  c\n",
      "Enter neighbors of c (space-separated):  a e\n",
      "Enter vertex:  d\n",
      "Enter neighbors of d (space-separated):  b\n",
      "Enter vertex:  e\n",
      "Enter neighbors of e (space-separated):  c f\n",
      "Enter vertex:  f\n",
      "Enter neighbors of f (space-separated):  e\n",
      "Enter starting vertex for BFS:  a\n"
     ]
    },
    {
     "name": "stdout",
     "output_type": "stream",
     "text": [
      "BFS traversal:\n",
      "a b c d e f "
     ]
    }
   ],
   "source": [
    "from collections import deque\n",
    "\n",
    "def bfs(graph, start):\n",
    "    visited = set()\n",
    "    queue = deque([start])\n",
    "    visited.add(start)\n",
    "\n",
    "    while queue:\n",
    "        vertex = queue.popleft()\n",
    "        print(vertex, end=' ')\n",
    "        for neighbor in graph[vertex]:\n",
    "            if neighbor not in visited:\n",
    "                visited.add(neighbor)\n",
    "                queue.append(neighbor)\n",
    "\n",
    "# Input: undirected graph\n",
    "graph = {}\n",
    "n = int(input(\"Enter number of vertices: \"))\n",
    "for _ in range(n):\n",
    "    v = input(\"Enter vertex: \")\n",
    "    neighbors = input(f\"Enter neighbors of {v} (space-separated): \").split()\n",
    "    graph[v] = neighbors\n",
    "    # Ensure undirected edges\n",
    "    for u in neighbors:\n",
    "        if u not in graph:\n",
    "            graph[u] = []\n",
    "        if v not in graph[u]:\n",
    "            graph[u].append(v)\n",
    "\n",
    "start = input(\"Enter starting vertex for BFS: \")\n",
    "print(\"BFS traversal:\")\n",
    "bfs(graph, start)\n"
   ]
  },
  {
   "cell_type": "code",
   "execution_count": null,
   "id": "536775bb-b921-4acf-ba80-4f67e2908425",
   "metadata": {},
   "outputs": [],
   "source": []
  }
 ],
 "metadata": {
  "kernelspec": {
   "display_name": "Python 3 (ipykernel)",
   "language": "python",
   "name": "python3"
  },
  "language_info": {
   "codemirror_mode": {
    "name": "ipython",
    "version": 3
   },
   "file_extension": ".py",
   "mimetype": "text/x-python",
   "name": "python",
   "nbconvert_exporter": "python",
   "pygments_lexer": "ipython3",
   "version": "3.12.7"
  }
 },
 "nbformat": 4,
 "nbformat_minor": 5
}
