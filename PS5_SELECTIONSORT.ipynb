{
 "cells": [
  {
   "cell_type": "code",
   "execution_count": 4,
   "id": "645befb0-df02-485b-8e9d-ce9238b07fac",
   "metadata": {},
   "outputs": [
    {
     "name": "stdin",
     "output_type": "stream",
     "text": [
      "Enter the array elements separated by space:  9 8 7 6 5 4 3 2 1\n"
     ]
    },
    {
     "name": "stdout",
     "output_type": "stream",
     "text": [
      "\n",
      "Initial array: [9, 8, 7, 6, 5, 4, 3, 2, 1]\n",
      "Heuristic: 8\n",
      "\n",
      "After step 1: [1, 8, 7, 6, 5, 4, 3, 2, 9], Heuristic: 6\n",
      "After step 2: [1, 2, 7, 6, 5, 4, 3, 8, 9], Heuristic: 4\n",
      "After step 3: [1, 2, 3, 6, 5, 4, 7, 8, 9], Heuristic: 2\n",
      "After step 4: [1, 2, 3, 4, 5, 6, 7, 8, 9], Heuristic: 0\n",
      "After step 5: [1, 2, 3, 4, 5, 6, 7, 8, 9], Heuristic: 0\n",
      "After step 6: [1, 2, 3, 4, 5, 6, 7, 8, 9], Heuristic: 0\n",
      "After step 7: [1, 2, 3, 4, 5, 6, 7, 8, 9], Heuristic: 0\n",
      "After step 8: [1, 2, 3, 4, 5, 6, 7, 8, 9], Heuristic: 0\n",
      "After step 9: [1, 2, 3, 4, 5, 6, 7, 8, 9], Heuristic: 0\n",
      "\n",
      "Sorted array: [1, 2, 3, 4, 5, 6, 7, 8, 9]\n"
     ]
    }
   ],
   "source": [
    "def heuristic(arr):\n",
    "    \"\"\"Heuristic: counts how many elements are out of place compared to sorted array.\"\"\"\n",
    "    sorted_arr = sorted(arr)\n",
    "    mismatch_count = sum(1 for a, b in zip(arr, sorted_arr) if a != b)\n",
    "    return mismatch_count\n",
    "\n",
    "def selectionSort(arr):\n",
    "    n = len(arr)\n",
    "    print(f\"\\nInitial array: {arr}\")\n",
    "    print(f\"Heuristic: {heuristic(arr)}\\n\")\n",
    "    \n",
    "    for i in range(n):\n",
    "        min_index = i\n",
    "        for j in range(i + 1, n):\n",
    "            if arr[j] < arr[min_index]:\n",
    "                min_index = j\n",
    "        if i != min_index:\n",
    "            arr[i], arr[min_index] = arr[min_index], arr[i]\n",
    "        print(f\"After step {i + 1}: {arr}, Heuristic: {heuristic(arr)}\")\n",
    "    \n",
    "    return arr\n",
    "\n",
    "# User input section\n",
    "\n",
    "arr = list(map(int, input(\"Enter the array elements separated by space: \").split()))\n",
    "sorted_arr = selectionSort(arr)\n",
    "\n",
    "print(f\"\\nSorted array: {sorted_arr}\")\n"
   ]
  },
  {
   "cell_type": "code",
   "execution_count": null,
   "id": "a59586b1-38ed-419b-accb-0d637db9153c",
   "metadata": {},
   "outputs": [],
   "source": []
  }
 ],
 "metadata": {
  "kernelspec": {
   "display_name": "Python [conda env:base] *",
   "language": "python",
   "name": "conda-base-py"
  },
  "language_info": {
   "codemirror_mode": {
    "name": "ipython",
    "version": 3
   },
   "file_extension": ".py",
   "mimetype": "text/x-python",
   "name": "python",
   "nbconvert_exporter": "python",
   "pygments_lexer": "ipython3",
   "version": "3.12.7"
  }
 },
 "nbformat": 4,
 "nbformat_minor": 5
}
