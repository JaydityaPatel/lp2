{
 "cells": [
  {
   "cell_type": "code",
   "execution_count": 1,
   "id": "5030cb21-54be-44de-b6b4-0dda239bb2fc",
   "metadata": {},
   "outputs": [
    {
     "name": "stdin",
     "output_type": "stream",
     "text": [
      "Enter the number of edges:  4\n",
      "Enter edge (source destination weight):  A B 1\n",
      "Enter edge (source destination weight):  A C 2\n",
      "Enter edge (source destination weight):  B D 4\n",
      "Enter edge (source destination weight):  C D 1\n"
     ]
    },
    {
     "name": "stdout",
     "output_type": "stream",
     "text": [
      "\n",
      "Enter heuristic values (node heuristic):\n"
     ]
    },
    {
     "name": "stdin",
     "output_type": "stream",
     "text": [
      "Heuristic for A:  5\n",
      "Heuristic for B:  3\n",
      "Heuristic for C:  2\n",
      "Heuristic for D:  0\n",
      "Enter the source node:  A\n",
      "Enter the goal node:  D\n"
     ]
    },
    {
     "name": "stdout",
     "output_type": "stream",
     "text": [
      "Visiting: A\n",
      "Visiting: C\n",
      "Goal D reached!\n",
      "\n",
      "Path taken:\n",
      "A -> C -> D\n"
     ]
    }
   ],
   "source": [
    "def greedy_best_first_search(graph, source, goal, heuristic):\n",
    "    visited = set()\n",
    "    path = []\n",
    "    current = source\n",
    "\n",
    "    while current != goal:\n",
    "        print(f\"Visiting: {current}\")\n",
    "        visited.add(current)\n",
    "        path.append(current)\n",
    "\n",
    "        # Get all unvisited neighbors\n",
    "        neighbors = [n for n in graph[current] if n not in visited]\n",
    "        if not neighbors:\n",
    "            print(\"No path found!\")\n",
    "            return path\n",
    "\n",
    "        # Choose neighbor with lowest heuristic h(n)\n",
    "        current = min(neighbors, key=lambda node: heuristic.get(node, float('inf')))\n",
    "\n",
    "    path.append(goal)\n",
    "    print(f\"Goal {goal} reached!\")\n",
    "    return path\n",
    "\n",
    "# --- Get Graph Input ---\n",
    "\n",
    "graph = {}\n",
    "n = int(input(\"Enter the number of edges: \"))\n",
    "for _ in range(n):\n",
    "    edge = input(\"Enter edge (source destination weight): \").split()\n",
    "    source, destination, weight = edge[0], edge[1], int(edge[2])\n",
    "    \n",
    "    if source not in graph:\n",
    "        graph[source] = {}\n",
    "    graph[source][destination] = weight\n",
    "\n",
    "    # Ensure destination node exists\n",
    "    if destination not in graph:\n",
    "        graph[destination] = {}\n",
    "\n",
    "# --- Get Heuristic Values ---\n",
    "heuristic = {}\n",
    "print(\"\\nEnter heuristic values (node heuristic):\")\n",
    "for node in graph:\n",
    "    h = int(input(f\"Heuristic for {node}: \"))\n",
    "    heuristic[node] = h\n",
    "\n",
    "# --- Start Search ---\n",
    "source = input(\"Enter the source node: \")\n",
    "goal = input(\"Enter the goal node: \")\n",
    "\n",
    "path = greedy_best_first_search(graph, source, goal, heuristic)\n",
    "\n",
    "print(\"\\nPath taken:\")\n",
    "print(\" -> \".join(path))\n"
   ]
  },
  {
   "cell_type": "code",
   "execution_count": null,
   "id": "2aa4e855-fb22-47c6-a05f-99b75ffcdf5a",
   "metadata": {},
   "outputs": [],
   "source": []
  }
 ],
 "metadata": {
  "kernelspec": {
   "display_name": "Python [conda env:base] *",
   "language": "python",
   "name": "conda-base-py"
  },
  "language_info": {
   "codemirror_mode": {
    "name": "ipython",
    "version": 3
   },
   "file_extension": ".py",
   "mimetype": "text/x-python",
   "name": "python",
   "nbconvert_exporter": "python",
   "pygments_lexer": "ipython3",
   "version": "3.12.7"
  }
 },
 "nbformat": 4,
 "nbformat_minor": 5
}
