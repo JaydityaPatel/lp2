{
 "cells": [
  {
   "cell_type": "code",
   "execution_count": 1,
   "id": "d12d7884-9171-4a1d-b59e-591b9d5db327",
   "metadata": {},
   "outputs": [
    {
     "name": "stdin",
     "output_type": "stream",
     "text": [
      "Enter number of vertices:  6\n",
      "Enter vertex:  A\n",
      "Enter neighbors of A (space-separated):  B C\n",
      "Enter vertex:  B\n",
      "Enter neighbors of B (space-separated):  A D\n",
      "Enter vertex:  C\n",
      "Enter neighbors of C (space-separated):  A E\n",
      "Enter vertex:  D\n",
      "Enter neighbors of D (space-separated):  B\n",
      "Enter vertex:  E\n",
      "Enter neighbors of E (space-separated):  C F\n",
      "Enter vertex:  F\n",
      "Enter neighbors of F (space-separated):  E\n",
      "Enter starting vertex for DFS:  A\n"
     ]
    },
    {
     "name": "stdout",
     "output_type": "stream",
     "text": [
      "DFS traversal:\n",
      "A B D C E F "
     ]
    }
   ],
   "source": [
    "# Recursive DFS on an undirected graph\n",
    "def dfs(graph, vertex, visited):\n",
    "    print(vertex, end=' ')\n",
    "    visited.add(vertex)\n",
    "    for neighbor in graph[vertex]:\n",
    "        if neighbor not in visited:\n",
    "            dfs(graph, neighbor, visited)\n",
    "\n",
    "# Input: undirected graph\n",
    "graph = {}\n",
    "n = int(input(\"Enter number of vertices: \"))\n",
    "for _ in range(n):\n",
    "    v = input(\"Enter vertex: \")\n",
    "    neighbors = input(f\"Enter neighbors of {v} (space-separated): \").split()\n",
    "    graph[v] = neighbors\n",
    "    # Ensure undirected edges\n",
    "    for u in neighbors:\n",
    "        if u not in graph:\n",
    "            graph[u] = []\n",
    "        if v not in graph[u]:\n",
    "            graph[u].append(v)\n",
    "\n",
    "start = input(\"Enter starting vertex for DFS: \")\n",
    "visited = set()\n",
    "print(\"DFS traversal:\")\n",
    "dfs(graph, start, visited)\n"
   ]
  },
  {
   "cell_type": "code",
   "execution_count": null,
   "id": "76591bac-d208-44c1-80a8-e8c32a8862ac",
   "metadata": {},
   "outputs": [],
   "source": []
  }
 ],
 "metadata": {
  "kernelspec": {
   "display_name": "Python 3 (ipykernel)",
   "language": "python",
   "name": "python3"
  },
  "language_info": {
   "codemirror_mode": {
    "name": "ipython",
    "version": 3
   },
   "file_extension": ".py",
   "mimetype": "text/x-python",
   "name": "python",
   "nbconvert_exporter": "python",
   "pygments_lexer": "ipython3",
   "version": "3.12.7"
  }
 },
 "nbformat": 4,
 "nbformat_minor": 5
}
